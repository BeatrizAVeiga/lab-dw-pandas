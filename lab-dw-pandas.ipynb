{
 "cells": [
  {
   "cell_type": "markdown",
   "id": "25d7736c-ba17-4aff-b6bb-66eba20fbf4e",
   "metadata": {},
   "source": [
    "# Lab | Pandas"
   ]
  },
  {
   "cell_type": "markdown",
   "id": "d1973e9e-8be6-4039-b70e-d73ee0d94c99",
   "metadata": {},
   "source": [
    "In this lab, we will be working with the customer data from an insurance company, which can be found in the CSV file located at the following link: https://raw.githubusercontent.com/data-bootcamp-v4/data/main/file1.csv\n",
    "\n",
    "The data includes information such as customer ID, state, gender, education, income, and other variables that can be used to perform various analyses.\n",
    "\n",
    "Throughout the lab, we will be using the pandas library in Python to manipulate and analyze the data. Pandas is a powerful library that provides various data manipulation and analysis tools, including the ability to load and manipulate data from a variety of sources, including CSV files."
   ]
  },
  {
   "cell_type": "markdown",
   "id": "8045146f-f4f7-44d9-8cd9-130d6400c73a",
   "metadata": {},
   "source": [
    "### Data Description\n",
    "\n",
    "- Customer - Customer ID\n",
    "\n",
    "- ST - State where customers live\n",
    "\n",
    "- Gender - Gender of the customer\n",
    "\n",
    "- Education - Background education of customers \n",
    "\n",
    "- Customer Lifetime Value - Customer lifetime value(CLV) is the total revenue the client will derive from their entire relationship with a customer. In other words, is the predicted or calculated value of a customer over their entire duration as a policyholder with the insurance company. It is an estimation of the net profit that the insurance company expects to generate from a customer throughout their relationship with the company. Customer Lifetime Value takes into account factors such as the duration of the customer's policy, premium payments, claim history, renewal likelihood, and potential additional services or products the customer may purchase. It helps insurers assess the long-term profitability and value associated with retaining a particular customer.\n",
    "\n",
    "- Income - Customers income\n",
    "\n",
    "- Monthly Premium Auto - Amount of money the customer pays on a monthly basis as a premium for their auto insurance coverage. It represents the recurring cost that the insured person must pay to maintain their insurance policy and receive coverage for potential damages, accidents, or other covered events related to their vehicle.\n",
    "\n",
    "- Number of Open Complaints - Number of complaints the customer opened\n",
    "\n",
    "- Policy Type - There are three type of policies in car insurance (Corporate Auto, Personal Auto, and Special Auto)\n",
    "\n",
    "- Vehicle Class - Type of vehicle classes that customers have Two-Door Car, Four-Door Car SUV, Luxury SUV, Sports Car, and Luxury Car\n",
    "\n",
    "- Total Claim Amount - the sum of all claims made by the customer. It represents the total monetary value of all approved claims for incidents such as accidents, theft, vandalism, or other covered events.\n"
   ]
  },
  {
   "cell_type": "markdown",
   "id": "3a72419b-20fc-4905-817a-8c83abc59de6",
   "metadata": {},
   "source": [
    "External Resources: https://towardsdatascience.com/filtering-data-frames-in-pandas-b570b1f834b9"
   ]
  },
  {
   "cell_type": "markdown",
   "id": "8f8ece17-e919-4e23-96c0-c7c59778436a",
   "metadata": {},
   "source": [
    "## Challenge 1: Understanding the data\n",
    "\n",
    "In this challenge, you will use pandas to explore a given dataset. Your task is to gain a deep understanding of the data by analyzing its characteristics, dimensions, and statistical properties."
   ]
  },
  {
   "cell_type": "markdown",
   "id": "91437bd5-59a6-49c0-8150-ef0e6e6eb253",
   "metadata": {},
   "source": [
    "- Identify the dimensions of the dataset by determining the number of rows and columns it contains.\n",
    "- Determine the data types of each column and evaluate whether they are appropriate for the nature of the variable. You should also provide suggestions for fixing any incorrect data types.\n",
    "- Identify the number of unique values for each column and determine which columns appear to be categorical. You should also describe the unique values of each categorical column and the range of values for numerical columns, and give your insights.\n",
    "- Compute summary statistics such as mean, median, mode, standard deviation, and quartiles to understand the central tendency and distribution of the data for numerical columns. You should also provide your conclusions based on these summary statistics.\n",
    "- Compute summary statistics for categorical columns and providing your conclusions based on these statistics."
   ]
  },
  {
   "cell_type": "code",
   "execution_count": 2,
   "id": "c052f2d6",
   "metadata": {},
   "outputs": [],
   "source": [
    "import pandas as pd\n",
    "url = 'https://raw.githubusercontent.com/data-bootcamp-v4/data/main/file1.csv'\n",
    "df = pd.read_csv(url)"
   ]
  },
  {
   "cell_type": "code",
   "execution_count": 3,
   "id": "dd4e8cd8-a6f6-486c-a5c4-1745b0c035f4",
   "metadata": {},
   "outputs": [
    {
     "data": {
      "text/html": [
       "<div>\n",
       "<style scoped>\n",
       "    .dataframe tbody tr th:only-of-type {\n",
       "        vertical-align: middle;\n",
       "    }\n",
       "\n",
       "    .dataframe tbody tr th {\n",
       "        vertical-align: top;\n",
       "    }\n",
       "\n",
       "    .dataframe thead th {\n",
       "        text-align: right;\n",
       "    }\n",
       "</style>\n",
       "<table border=\"1\" class=\"dataframe\">\n",
       "  <thead>\n",
       "    <tr style=\"text-align: right;\">\n",
       "      <th></th>\n",
       "      <th>Customer</th>\n",
       "      <th>ST</th>\n",
       "      <th>GENDER</th>\n",
       "      <th>Education</th>\n",
       "      <th>Customer Lifetime Value</th>\n",
       "      <th>Income</th>\n",
       "      <th>Monthly Premium Auto</th>\n",
       "      <th>Number of Open Complaints</th>\n",
       "      <th>Policy Type</th>\n",
       "      <th>Vehicle Class</th>\n",
       "      <th>Total Claim Amount</th>\n",
       "    </tr>\n",
       "  </thead>\n",
       "  <tbody>\n",
       "    <tr>\n",
       "      <th>0</th>\n",
       "      <td>RB50392</td>\n",
       "      <td>Washington</td>\n",
       "      <td>NaN</td>\n",
       "      <td>Master</td>\n",
       "      <td>NaN</td>\n",
       "      <td>0.0</td>\n",
       "      <td>1000.0</td>\n",
       "      <td>1/0/00</td>\n",
       "      <td>Personal Auto</td>\n",
       "      <td>Four-Door Car</td>\n",
       "      <td>2.704934</td>\n",
       "    </tr>\n",
       "    <tr>\n",
       "      <th>1</th>\n",
       "      <td>QZ44356</td>\n",
       "      <td>Arizona</td>\n",
       "      <td>F</td>\n",
       "      <td>Bachelor</td>\n",
       "      <td>697953.59%</td>\n",
       "      <td>0.0</td>\n",
       "      <td>94.0</td>\n",
       "      <td>1/0/00</td>\n",
       "      <td>Personal Auto</td>\n",
       "      <td>Four-Door Car</td>\n",
       "      <td>1131.464935</td>\n",
       "    </tr>\n",
       "    <tr>\n",
       "      <th>2</th>\n",
       "      <td>AI49188</td>\n",
       "      <td>Nevada</td>\n",
       "      <td>F</td>\n",
       "      <td>Bachelor</td>\n",
       "      <td>1288743.17%</td>\n",
       "      <td>48767.0</td>\n",
       "      <td>108.0</td>\n",
       "      <td>1/0/00</td>\n",
       "      <td>Personal Auto</td>\n",
       "      <td>Two-Door Car</td>\n",
       "      <td>566.472247</td>\n",
       "    </tr>\n",
       "    <tr>\n",
       "      <th>3</th>\n",
       "      <td>WW63253</td>\n",
       "      <td>California</td>\n",
       "      <td>M</td>\n",
       "      <td>Bachelor</td>\n",
       "      <td>764586.18%</td>\n",
       "      <td>0.0</td>\n",
       "      <td>106.0</td>\n",
       "      <td>1/0/00</td>\n",
       "      <td>Corporate Auto</td>\n",
       "      <td>SUV</td>\n",
       "      <td>529.881344</td>\n",
       "    </tr>\n",
       "    <tr>\n",
       "      <th>4</th>\n",
       "      <td>GA49547</td>\n",
       "      <td>Washington</td>\n",
       "      <td>M</td>\n",
       "      <td>High School or Below</td>\n",
       "      <td>536307.65%</td>\n",
       "      <td>36357.0</td>\n",
       "      <td>68.0</td>\n",
       "      <td>1/0/00</td>\n",
       "      <td>Personal Auto</td>\n",
       "      <td>Four-Door Car</td>\n",
       "      <td>17.269323</td>\n",
       "    </tr>\n",
       "  </tbody>\n",
       "</table>\n",
       "</div>"
      ],
      "text/plain": [
       "  Customer          ST GENDER             Education Customer Lifetime Value  \\\n",
       "0  RB50392  Washington    NaN                Master                     NaN   \n",
       "1  QZ44356     Arizona      F              Bachelor              697953.59%   \n",
       "2  AI49188      Nevada      F              Bachelor             1288743.17%   \n",
       "3  WW63253  California      M              Bachelor              764586.18%   \n",
       "4  GA49547  Washington      M  High School or Below              536307.65%   \n",
       "\n",
       "    Income  Monthly Premium Auto Number of Open Complaints     Policy Type  \\\n",
       "0      0.0                1000.0                    1/0/00   Personal Auto   \n",
       "1      0.0                  94.0                    1/0/00   Personal Auto   \n",
       "2  48767.0                 108.0                    1/0/00   Personal Auto   \n",
       "3      0.0                 106.0                    1/0/00  Corporate Auto   \n",
       "4  36357.0                  68.0                    1/0/00   Personal Auto   \n",
       "\n",
       "   Vehicle Class  Total Claim Amount  \n",
       "0  Four-Door Car            2.704934  \n",
       "1  Four-Door Car         1131.464935  \n",
       "2   Two-Door Car          566.472247  \n",
       "3            SUV          529.881344  \n",
       "4  Four-Door Car           17.269323  "
      ]
     },
     "execution_count": 3,
     "metadata": {},
     "output_type": "execute_result"
    }
   ],
   "source": [
    "df.head()"
   ]
  },
  {
   "cell_type": "code",
   "execution_count": 4,
   "id": "ba39b397",
   "metadata": {},
   "outputs": [
    {
     "data": {
      "text/html": [
       "<div>\n",
       "<style scoped>\n",
       "    .dataframe tbody tr th:only-of-type {\n",
       "        vertical-align: middle;\n",
       "    }\n",
       "\n",
       "    .dataframe tbody tr th {\n",
       "        vertical-align: top;\n",
       "    }\n",
       "\n",
       "    .dataframe thead th {\n",
       "        text-align: right;\n",
       "    }\n",
       "</style>\n",
       "<table border=\"1\" class=\"dataframe\">\n",
       "  <thead>\n",
       "    <tr style=\"text-align: right;\">\n",
       "      <th></th>\n",
       "      <th>Customer</th>\n",
       "      <th>ST</th>\n",
       "      <th>GENDER</th>\n",
       "      <th>Education</th>\n",
       "      <th>Customer Lifetime Value</th>\n",
       "      <th>Income</th>\n",
       "      <th>Monthly Premium Auto</th>\n",
       "      <th>Number of Open Complaints</th>\n",
       "      <th>Policy Type</th>\n",
       "      <th>Vehicle Class</th>\n",
       "      <th>Total Claim Amount</th>\n",
       "    </tr>\n",
       "  </thead>\n",
       "  <tbody>\n",
       "    <tr>\n",
       "      <th>4003</th>\n",
       "      <td>NaN</td>\n",
       "      <td>NaN</td>\n",
       "      <td>NaN</td>\n",
       "      <td>NaN</td>\n",
       "      <td>NaN</td>\n",
       "      <td>NaN</td>\n",
       "      <td>NaN</td>\n",
       "      <td>NaN</td>\n",
       "      <td>NaN</td>\n",
       "      <td>NaN</td>\n",
       "      <td>NaN</td>\n",
       "    </tr>\n",
       "    <tr>\n",
       "      <th>4004</th>\n",
       "      <td>NaN</td>\n",
       "      <td>NaN</td>\n",
       "      <td>NaN</td>\n",
       "      <td>NaN</td>\n",
       "      <td>NaN</td>\n",
       "      <td>NaN</td>\n",
       "      <td>NaN</td>\n",
       "      <td>NaN</td>\n",
       "      <td>NaN</td>\n",
       "      <td>NaN</td>\n",
       "      <td>NaN</td>\n",
       "    </tr>\n",
       "    <tr>\n",
       "      <th>4005</th>\n",
       "      <td>NaN</td>\n",
       "      <td>NaN</td>\n",
       "      <td>NaN</td>\n",
       "      <td>NaN</td>\n",
       "      <td>NaN</td>\n",
       "      <td>NaN</td>\n",
       "      <td>NaN</td>\n",
       "      <td>NaN</td>\n",
       "      <td>NaN</td>\n",
       "      <td>NaN</td>\n",
       "      <td>NaN</td>\n",
       "    </tr>\n",
       "    <tr>\n",
       "      <th>4006</th>\n",
       "      <td>NaN</td>\n",
       "      <td>NaN</td>\n",
       "      <td>NaN</td>\n",
       "      <td>NaN</td>\n",
       "      <td>NaN</td>\n",
       "      <td>NaN</td>\n",
       "      <td>NaN</td>\n",
       "      <td>NaN</td>\n",
       "      <td>NaN</td>\n",
       "      <td>NaN</td>\n",
       "      <td>NaN</td>\n",
       "    </tr>\n",
       "    <tr>\n",
       "      <th>4007</th>\n",
       "      <td>NaN</td>\n",
       "      <td>NaN</td>\n",
       "      <td>NaN</td>\n",
       "      <td>NaN</td>\n",
       "      <td>NaN</td>\n",
       "      <td>NaN</td>\n",
       "      <td>NaN</td>\n",
       "      <td>NaN</td>\n",
       "      <td>NaN</td>\n",
       "      <td>NaN</td>\n",
       "      <td>NaN</td>\n",
       "    </tr>\n",
       "  </tbody>\n",
       "</table>\n",
       "</div>"
      ],
      "text/plain": [
       "     Customer   ST GENDER Education Customer Lifetime Value  Income  \\\n",
       "4003      NaN  NaN    NaN       NaN                     NaN     NaN   \n",
       "4004      NaN  NaN    NaN       NaN                     NaN     NaN   \n",
       "4005      NaN  NaN    NaN       NaN                     NaN     NaN   \n",
       "4006      NaN  NaN    NaN       NaN                     NaN     NaN   \n",
       "4007      NaN  NaN    NaN       NaN                     NaN     NaN   \n",
       "\n",
       "      Monthly Premium Auto Number of Open Complaints Policy Type  \\\n",
       "4003                   NaN                       NaN         NaN   \n",
       "4004                   NaN                       NaN         NaN   \n",
       "4005                   NaN                       NaN         NaN   \n",
       "4006                   NaN                       NaN         NaN   \n",
       "4007                   NaN                       NaN         NaN   \n",
       "\n",
       "     Vehicle Class  Total Claim Amount  \n",
       "4003           NaN                 NaN  \n",
       "4004           NaN                 NaN  \n",
       "4005           NaN                 NaN  \n",
       "4006           NaN                 NaN  \n",
       "4007           NaN                 NaN  "
      ]
     },
     "execution_count": 4,
     "metadata": {},
     "output_type": "execute_result"
    }
   ],
   "source": [
    "df.tail()"
   ]
  },
  {
   "cell_type": "code",
   "execution_count": 5,
   "id": "66188cdd",
   "metadata": {},
   "outputs": [
    {
     "data": {
      "text/plain": [
       "(4008, 11)"
      ]
     },
     "execution_count": 5,
     "metadata": {},
     "output_type": "execute_result"
    }
   ],
   "source": [
    "df.shape\n",
    "#This dataframe has a total of 4008 rows and 11 columns"
   ]
  },
  {
   "cell_type": "code",
   "execution_count": 6,
   "id": "842441c3",
   "metadata": {},
   "outputs": [
    {
     "data": {
      "text/plain": [
       "Customer                      object\n",
       "ST                            object\n",
       "GENDER                        object\n",
       "Education                     object\n",
       "Customer Lifetime Value       object\n",
       "Income                       float64\n",
       "Monthly Premium Auto         float64\n",
       "Number of Open Complaints     object\n",
       "Policy Type                   object\n",
       "Vehicle Class                 object\n",
       "Total Claim Amount           float64\n",
       "dtype: object"
      ]
     },
     "execution_count": 6,
     "metadata": {},
     "output_type": "execute_result"
    }
   ],
   "source": [
    "df.dtypes\n",
    "#The Customer Lifetime Value should be a float "
   ]
  },
  {
   "cell_type": "code",
   "execution_count": 7,
   "id": "873f9cad",
   "metadata": {},
   "outputs": [
    {
     "data": {
      "text/plain": [
       "Customer                      object\n",
       "ST                            object\n",
       "GENDER                        object\n",
       "Education                     object\n",
       "Customer Lifetime Value      float64\n",
       "Income                       float64\n",
       "Monthly Premium Auto         float64\n",
       "Number of Open Complaints     object\n",
       "Policy Type                   object\n",
       "Vehicle Class                 object\n",
       "Total Claim Amount           float64\n",
       "dtype: object"
      ]
     },
     "execution_count": 7,
     "metadata": {},
     "output_type": "execute_result"
    }
   ],
   "source": [
    "df['Customer Lifetime Value'] = df['Customer Lifetime Value'].str.replace('%', '').astype(float) / 100\n",
    "#Cleaning the Customer Lifetime Value column and checking if it was correctly cleaned\n",
    "df.dtypes"
   ]
  },
  {
   "cell_type": "code",
   "execution_count": 8,
   "id": "bce63c43",
   "metadata": {},
   "outputs": [
    {
     "data": {
      "text/plain": [
       "Customer                     1071\n",
       "ST                              8\n",
       "GENDER                          5\n",
       "Education                       6\n",
       "Customer Lifetime Value      1027\n",
       "Income                        774\n",
       "Monthly Premium Auto          132\n",
       "Number of Open Complaints       6\n",
       "Policy Type                     3\n",
       "Vehicle Class                   6\n",
       "Total Claim Amount            761\n",
       "dtype: int64"
      ]
     },
     "execution_count": 8,
     "metadata": {},
     "output_type": "execute_result"
    }
   ],
   "source": [
    "df.nunique()\n",
    "#Identifying the number of unique values for each category"
   ]
  },
  {
   "cell_type": "code",
   "execution_count": 9,
   "id": "c4150297",
   "metadata": {},
   "outputs": [],
   "source": [
    "df.columns = df.columns.str.title()"
   ]
  },
  {
   "cell_type": "code",
   "execution_count": 10,
   "id": "0814a0c5",
   "metadata": {},
   "outputs": [
    {
     "data": {
      "text/html": [
       "<div>\n",
       "<style scoped>\n",
       "    .dataframe tbody tr th:only-of-type {\n",
       "        vertical-align: middle;\n",
       "    }\n",
       "\n",
       "    .dataframe tbody tr th {\n",
       "        vertical-align: top;\n",
       "    }\n",
       "\n",
       "    .dataframe thead th {\n",
       "        text-align: right;\n",
       "    }\n",
       "</style>\n",
       "<table border=\"1\" class=\"dataframe\">\n",
       "  <thead>\n",
       "    <tr style=\"text-align: right;\">\n",
       "      <th></th>\n",
       "      <th>Customer</th>\n",
       "      <th>St</th>\n",
       "      <th>Gender</th>\n",
       "      <th>Education</th>\n",
       "      <th>Number Of Open Complaints</th>\n",
       "      <th>Policy Type</th>\n",
       "      <th>Vehicle Class</th>\n",
       "    </tr>\n",
       "  </thead>\n",
       "  <tbody>\n",
       "    <tr>\n",
       "      <th>0</th>\n",
       "      <td>RB50392</td>\n",
       "      <td>Washington</td>\n",
       "      <td>NaN</td>\n",
       "      <td>Master</td>\n",
       "      <td>1/0/00</td>\n",
       "      <td>Personal Auto</td>\n",
       "      <td>Four-Door Car</td>\n",
       "    </tr>\n",
       "    <tr>\n",
       "      <th>1</th>\n",
       "      <td>QZ44356</td>\n",
       "      <td>Arizona</td>\n",
       "      <td>F</td>\n",
       "      <td>Bachelor</td>\n",
       "      <td>1/0/00</td>\n",
       "      <td>Personal Auto</td>\n",
       "      <td>Four-Door Car</td>\n",
       "    </tr>\n",
       "    <tr>\n",
       "      <th>2</th>\n",
       "      <td>AI49188</td>\n",
       "      <td>Nevada</td>\n",
       "      <td>F</td>\n",
       "      <td>Bachelor</td>\n",
       "      <td>1/0/00</td>\n",
       "      <td>Personal Auto</td>\n",
       "      <td>Two-Door Car</td>\n",
       "    </tr>\n",
       "    <tr>\n",
       "      <th>3</th>\n",
       "      <td>WW63253</td>\n",
       "      <td>California</td>\n",
       "      <td>M</td>\n",
       "      <td>Bachelor</td>\n",
       "      <td>1/0/00</td>\n",
       "      <td>Corporate Auto</td>\n",
       "      <td>SUV</td>\n",
       "    </tr>\n",
       "    <tr>\n",
       "      <th>4</th>\n",
       "      <td>GA49547</td>\n",
       "      <td>Washington</td>\n",
       "      <td>M</td>\n",
       "      <td>High School or Below</td>\n",
       "      <td>1/0/00</td>\n",
       "      <td>Personal Auto</td>\n",
       "      <td>Four-Door Car</td>\n",
       "    </tr>\n",
       "  </tbody>\n",
       "</table>\n",
       "</div>"
      ],
      "text/plain": [
       "  Customer          St Gender             Education Number Of Open Complaints  \\\n",
       "0  RB50392  Washington    NaN                Master                    1/0/00   \n",
       "1  QZ44356     Arizona      F              Bachelor                    1/0/00   \n",
       "2  AI49188      Nevada      F              Bachelor                    1/0/00   \n",
       "3  WW63253  California      M              Bachelor                    1/0/00   \n",
       "4  GA49547  Washington      M  High School or Below                    1/0/00   \n",
       "\n",
       "      Policy Type  Vehicle Class  \n",
       "0   Personal Auto  Four-Door Car  \n",
       "1   Personal Auto  Four-Door Car  \n",
       "2   Personal Auto   Two-Door Car  \n",
       "3  Corporate Auto            SUV  \n",
       "4   Personal Auto  Four-Door Car  "
      ]
     },
     "execution_count": 10,
     "metadata": {},
     "output_type": "execute_result"
    }
   ],
   "source": [
    "categorical_cols = df.select_dtypes(include='object').head()\n",
    "categorical_cols\n",
    "#Identifying which columns appear to be categorical"
   ]
  },
  {
   "cell_type": "code",
   "execution_count": 11,
   "id": "1bce4f85",
   "metadata": {},
   "outputs": [
    {
     "name": "stdout",
     "output_type": "stream",
     "text": [
      "Unique values for the Customer column:\n",
      "['RB50392' 'QZ44356' 'AI49188' ... 'CW49887' 'MY31220' nan] \n",
      "\n",
      "Unique values for the St column:\n",
      "['Washington' 'Arizona' 'Nevada' 'California' 'Oregon' 'Cali' 'AZ' 'WA'\n",
      " nan] \n",
      "\n",
      "Unique values for the Gender column:\n",
      "[nan 'F' 'M' 'Femal' 'Male' 'female'] \n",
      "\n",
      "Unique values for the Education column:\n",
      "['Master' 'Bachelor' 'High School or Below' 'College' 'Bachelors' 'Doctor'\n",
      " nan] \n",
      "\n",
      "Unique values for the Number Of Open Complaints column:\n",
      "['1/0/00' '1/2/00' '1/1/00' '1/3/00' '1/5/00' '1/4/00' nan] \n",
      "\n",
      "Unique values for the Policy Type column:\n",
      "['Personal Auto' 'Corporate Auto' 'Special Auto' nan] \n",
      "\n",
      "Unique values for the Vehicle Class column:\n",
      "['Four-Door Car' 'Two-Door Car' 'SUV' 'Luxury SUV' 'Sports Car'\n",
      " 'Luxury Car' nan] \n",
      "\n"
     ]
    }
   ],
   "source": [
    "for column in categorical_cols:\n",
    "    print(f\"Unique values for the {column} column:\")\n",
    "    print(df[column].unique(), '\\n')"
   ]
  },
  {
   "cell_type": "markdown",
   "id": "ad557878",
   "metadata": {},
   "source": [
    "#### Cleaning each categorical column"
   ]
  },
  {
   "cell_type": "code",
   "execution_count": 12,
   "id": "4e3e5a41",
   "metadata": {},
   "outputs": [
    {
     "data": {
      "text/html": [
       "<div>\n",
       "<style scoped>\n",
       "    .dataframe tbody tr th:only-of-type {\n",
       "        vertical-align: middle;\n",
       "    }\n",
       "\n",
       "    .dataframe tbody tr th {\n",
       "        vertical-align: top;\n",
       "    }\n",
       "\n",
       "    .dataframe thead th {\n",
       "        text-align: right;\n",
       "    }\n",
       "</style>\n",
       "<table border=\"1\" class=\"dataframe\">\n",
       "  <thead>\n",
       "    <tr style=\"text-align: right;\">\n",
       "      <th></th>\n",
       "      <th>Customer Lifetime Value</th>\n",
       "      <th>Income</th>\n",
       "      <th>Monthly Premium Auto</th>\n",
       "      <th>Total Claim Amount</th>\n",
       "    </tr>\n",
       "  </thead>\n",
       "  <tbody>\n",
       "    <tr>\n",
       "      <th>0</th>\n",
       "      <td>NaN</td>\n",
       "      <td>0.0</td>\n",
       "      <td>1000.0</td>\n",
       "      <td>2.70</td>\n",
       "    </tr>\n",
       "    <tr>\n",
       "      <th>1</th>\n",
       "      <td>6979.54</td>\n",
       "      <td>0.0</td>\n",
       "      <td>94.0</td>\n",
       "      <td>1131.46</td>\n",
       "    </tr>\n",
       "    <tr>\n",
       "      <th>2</th>\n",
       "      <td>12887.43</td>\n",
       "      <td>48767.0</td>\n",
       "      <td>108.0</td>\n",
       "      <td>566.47</td>\n",
       "    </tr>\n",
       "    <tr>\n",
       "      <th>3</th>\n",
       "      <td>7645.86</td>\n",
       "      <td>0.0</td>\n",
       "      <td>106.0</td>\n",
       "      <td>529.88</td>\n",
       "    </tr>\n",
       "    <tr>\n",
       "      <th>4</th>\n",
       "      <td>5363.08</td>\n",
       "      <td>36357.0</td>\n",
       "      <td>68.0</td>\n",
       "      <td>17.27</td>\n",
       "    </tr>\n",
       "  </tbody>\n",
       "</table>\n",
       "</div>"
      ],
      "text/plain": [
       "   Customer Lifetime Value   Income  Monthly Premium Auto  Total Claim Amount\n",
       "0                      NaN      0.0                1000.0                2.70\n",
       "1                  6979.54      0.0                  94.0             1131.46\n",
       "2                 12887.43  48767.0                 108.0              566.47\n",
       "3                  7645.86      0.0                 106.0              529.88\n",
       "4                  5363.08  36357.0                  68.0               17.27"
      ]
     },
     "execution_count": 12,
     "metadata": {},
     "output_type": "execute_result"
    }
   ],
   "source": [
    "numerical_cols = round(df.select_dtypes(include='number').head(), 2)\n",
    "numerical_cols\n",
    "#Identifying which columns appear to be numerical"
   ]
  },
  {
   "cell_type": "code",
   "execution_count": 13,
   "id": "7b641f5a",
   "metadata": {},
   "outputs": [
    {
     "data": {
      "text/html": [
       "<div>\n",
       "<style scoped>\n",
       "    .dataframe tbody tr th:only-of-type {\n",
       "        vertical-align: middle;\n",
       "    }\n",
       "\n",
       "    .dataframe tbody tr th {\n",
       "        vertical-align: top;\n",
       "    }\n",
       "\n",
       "    .dataframe thead th {\n",
       "        text-align: right;\n",
       "    }\n",
       "</style>\n",
       "<table border=\"1\" class=\"dataframe\">\n",
       "  <thead>\n",
       "    <tr style=\"text-align: right;\">\n",
       "      <th></th>\n",
       "      <th>Customer Lifetime Value</th>\n",
       "      <th>Income</th>\n",
       "      <th>Monthly Premium Auto</th>\n",
       "      <th>Total Claim Amount</th>\n",
       "    </tr>\n",
       "  </thead>\n",
       "  <tbody>\n",
       "    <tr>\n",
       "      <th>min</th>\n",
       "      <td>5363.08</td>\n",
       "      <td>0.0</td>\n",
       "      <td>68.0</td>\n",
       "      <td>2.70</td>\n",
       "    </tr>\n",
       "    <tr>\n",
       "      <th>max</th>\n",
       "      <td>12887.43</td>\n",
       "      <td>48767.0</td>\n",
       "      <td>1000.0</td>\n",
       "      <td>1131.46</td>\n",
       "    </tr>\n",
       "  </tbody>\n",
       "</table>\n",
       "</div>"
      ],
      "text/plain": [
       "     Customer Lifetime Value   Income  Monthly Premium Auto  \\\n",
       "min                  5363.08      0.0                  68.0   \n",
       "max                 12887.43  48767.0                1000.0   \n",
       "\n",
       "     Total Claim Amount  \n",
       "min                2.70  \n",
       "max             1131.46  "
      ]
     },
     "execution_count": 13,
     "metadata": {},
     "output_type": "execute_result"
    }
   ],
   "source": [
    "round(numerical_cols.describe().loc[['min', 'max']], 2)"
   ]
  },
  {
   "cell_type": "code",
   "execution_count": 14,
   "id": "35e079df",
   "metadata": {},
   "outputs": [],
   "source": [
    "#The min and max Customer Lifetime Value indicate the lowest and highest revenue a customer will generate for their insurance company. The large gap between those indicates that there is a large variance in Customer Lifetime Value.\n",
    "#The min and max Income indicate that there is a wide range of customer financial profiles. This might indicate that there are customers with no income at all or this data could be missing.\n",
    "#The min and max Monthly Premium Auto indicates that there is a wide range in terms of coverage. There are many factors that can contribute to this such as: the coverage a customer wants for their car, vehicle type, total claim amounts.\n",
    "#The min and max Total Claim Amount indicates that some customers have had significant claims while others have made few or no claims. The high claim amount might indicate a higher amount of claims or a big incident."
   ]
  },
  {
   "cell_type": "code",
   "execution_count": 15,
   "id": "51f2479f",
   "metadata": {},
   "outputs": [
    {
     "data": {
      "text/html": [
       "<div>\n",
       "<style scoped>\n",
       "    .dataframe tbody tr th:only-of-type {\n",
       "        vertical-align: middle;\n",
       "    }\n",
       "\n",
       "    .dataframe tbody tr th {\n",
       "        vertical-align: top;\n",
       "    }\n",
       "\n",
       "    .dataframe thead th {\n",
       "        text-align: right;\n",
       "    }\n",
       "</style>\n",
       "<table border=\"1\" class=\"dataframe\">\n",
       "  <thead>\n",
       "    <tr style=\"text-align: right;\">\n",
       "      <th></th>\n",
       "      <th>Customer Lifetime Value</th>\n",
       "      <th>Income</th>\n",
       "      <th>Monthly Premium Auto</th>\n",
       "      <th>Total Claim Amount</th>\n",
       "    </tr>\n",
       "  </thead>\n",
       "  <tbody>\n",
       "    <tr>\n",
       "      <th>count</th>\n",
       "      <td>4.00</td>\n",
       "      <td>5.00</td>\n",
       "      <td>5.00</td>\n",
       "      <td>5.00</td>\n",
       "    </tr>\n",
       "    <tr>\n",
       "      <th>mean</th>\n",
       "      <td>8218.98</td>\n",
       "      <td>17024.80</td>\n",
       "      <td>275.20</td>\n",
       "      <td>449.56</td>\n",
       "    </tr>\n",
       "    <tr>\n",
       "      <th>std</th>\n",
       "      <td>3256.55</td>\n",
       "      <td>23721.47</td>\n",
       "      <td>405.49</td>\n",
       "      <td>466.82</td>\n",
       "    </tr>\n",
       "    <tr>\n",
       "      <th>min</th>\n",
       "      <td>5363.08</td>\n",
       "      <td>0.00</td>\n",
       "      <td>68.00</td>\n",
       "      <td>2.70</td>\n",
       "    </tr>\n",
       "    <tr>\n",
       "      <th>25%</th>\n",
       "      <td>6575.42</td>\n",
       "      <td>0.00</td>\n",
       "      <td>94.00</td>\n",
       "      <td>17.27</td>\n",
       "    </tr>\n",
       "    <tr>\n",
       "      <th>50%</th>\n",
       "      <td>7312.70</td>\n",
       "      <td>0.00</td>\n",
       "      <td>106.00</td>\n",
       "      <td>529.88</td>\n",
       "    </tr>\n",
       "    <tr>\n",
       "      <th>75%</th>\n",
       "      <td>8956.25</td>\n",
       "      <td>36357.00</td>\n",
       "      <td>108.00</td>\n",
       "      <td>566.47</td>\n",
       "    </tr>\n",
       "    <tr>\n",
       "      <th>max</th>\n",
       "      <td>12887.43</td>\n",
       "      <td>48767.00</td>\n",
       "      <td>1000.00</td>\n",
       "      <td>1131.46</td>\n",
       "    </tr>\n",
       "  </tbody>\n",
       "</table>\n",
       "</div>"
      ],
      "text/plain": [
       "       Customer Lifetime Value    Income  Monthly Premium Auto  \\\n",
       "count                     4.00      5.00                  5.00   \n",
       "mean                   8218.98  17024.80                275.20   \n",
       "std                    3256.55  23721.47                405.49   \n",
       "min                    5363.08      0.00                 68.00   \n",
       "25%                    6575.42      0.00                 94.00   \n",
       "50%                    7312.70      0.00                106.00   \n",
       "75%                    8956.25  36357.00                108.00   \n",
       "max                   12887.43  48767.00               1000.00   \n",
       "\n",
       "       Total Claim Amount  \n",
       "count                5.00  \n",
       "mean               449.56  \n",
       "std                466.82  \n",
       "min                  2.70  \n",
       "25%                 17.27  \n",
       "50%                529.88  \n",
       "75%                566.47  \n",
       "max               1131.46  "
      ]
     },
     "execution_count": 15,
     "metadata": {},
     "output_type": "execute_result"
    }
   ],
   "source": [
    "summary_statistics = round(numerical_cols.describe(), 2)\n",
    "summary_statistics"
   ]
  },
  {
   "cell_type": "markdown",
   "id": "5bf59861",
   "metadata": {},
   "source": [
    "- On average, a Customer Lifetime Value is 8219. Since the median is slightly lower than the mean it indicates that some higher values might be pulling up the mean. The STD gives us the indication that there is a high spread of data. 75% of customers have a CLV above 8956 while 50% of them have a Customer Lifetime Value above 7313,  and 25% have a CLV below 6575.\n",
    "- The average income is 17025. The fact that the median is zero suggests that there some customers have no reported income or that this data is missing. We can also see this by looking at Q2, 50% of the customers have no recorded income. The STD is very high which indicates that there is a high range when it comes to the income, some customers earn vey low while others are reported to earn significantly more.\n",
    "- On average customers pay 275 for their insurance. The medican is lower than the mean which suggests that there are a couple os customers are paying very high insurance, making the average go up. The STD is 405.49 (not close to the mean) which means that some customers are paying significantly lower insurance while other are paying significantly high insurance. Since Q1 is 94 and Q3 is 108, it means that most customers are paying between these values.\n",
    "- On average customers have made claims totaling 449.56. The median is higher than the mean which means that a couple of customers have made large claims. The STD indicates that there is a wide range in terms of claim amounts. Since Q1 is 17.27 and Q3 is 566.47 it means that most customers fall in between these values."
   ]
  },
  {
   "cell_type": "code",
   "execution_count": 16,
   "id": "e131ea26",
   "metadata": {},
   "outputs": [
    {
     "data": {
      "text/html": [
       "<div>\n",
       "<style scoped>\n",
       "    .dataframe tbody tr th:only-of-type {\n",
       "        vertical-align: middle;\n",
       "    }\n",
       "\n",
       "    .dataframe tbody tr th {\n",
       "        vertical-align: top;\n",
       "    }\n",
       "\n",
       "    .dataframe thead th {\n",
       "        text-align: right;\n",
       "    }\n",
       "</style>\n",
       "<table border=\"1\" class=\"dataframe\">\n",
       "  <thead>\n",
       "    <tr style=\"text-align: right;\">\n",
       "      <th></th>\n",
       "      <th>Customer</th>\n",
       "      <th>St</th>\n",
       "      <th>Gender</th>\n",
       "      <th>Education</th>\n",
       "      <th>Number Of Open Complaints</th>\n",
       "      <th>Policy Type</th>\n",
       "      <th>Vehicle Class</th>\n",
       "    </tr>\n",
       "  </thead>\n",
       "  <tbody>\n",
       "    <tr>\n",
       "      <th>count</th>\n",
       "      <td>1071</td>\n",
       "      <td>1071</td>\n",
       "      <td>954</td>\n",
       "      <td>1071</td>\n",
       "      <td>1071</td>\n",
       "      <td>1071</td>\n",
       "      <td>1071</td>\n",
       "    </tr>\n",
       "    <tr>\n",
       "      <th>unique</th>\n",
       "      <td>1071</td>\n",
       "      <td>8</td>\n",
       "      <td>5</td>\n",
       "      <td>6</td>\n",
       "      <td>6</td>\n",
       "      <td>3</td>\n",
       "      <td>6</td>\n",
       "    </tr>\n",
       "    <tr>\n",
       "      <th>top</th>\n",
       "      <td>MY31220</td>\n",
       "      <td>Oregon</td>\n",
       "      <td>F</td>\n",
       "      <td>Bachelor</td>\n",
       "      <td>1/0/00</td>\n",
       "      <td>Personal Auto</td>\n",
       "      <td>Four-Door Car</td>\n",
       "    </tr>\n",
       "    <tr>\n",
       "      <th>freq</th>\n",
       "      <td>1</td>\n",
       "      <td>320</td>\n",
       "      <td>457</td>\n",
       "      <td>324</td>\n",
       "      <td>830</td>\n",
       "      <td>780</td>\n",
       "      <td>576</td>\n",
       "    </tr>\n",
       "  </tbody>\n",
       "</table>\n",
       "</div>"
      ],
      "text/plain": [
       "       Customer      St Gender Education Number Of Open Complaints  \\\n",
       "count      1071    1071    954      1071                      1071   \n",
       "unique     1071       8      5         6                         6   \n",
       "top     MY31220  Oregon      F  Bachelor                    1/0/00   \n",
       "freq          1     320    457       324                       830   \n",
       "\n",
       "          Policy Type  Vehicle Class  \n",
       "count            1071           1071  \n",
       "unique              3              6  \n",
       "top     Personal Auto  Four-Door Car  \n",
       "freq              780            576  "
      ]
     },
     "execution_count": 16,
     "metadata": {},
     "output_type": "execute_result"
    }
   ],
   "source": [
    "df.describe(include='object')"
   ]
  },
  {
   "cell_type": "markdown",
   "id": "68697a5c",
   "metadata": {},
   "source": [
    "- There are 1071 unique IDs which indicates that most IDs are null values or missing and that there are no duplicates.\n",
    "- Every row has the State listed, there are 8 total states but as we've seen before this is not 100% correct as we have the same states written differently. The most frequent is Oregon with a frequency of 320. This suggests that most customers are from Oregon.\n",
    "- When it comes to gender we're able to observe that there are some missing values. The 5 unique values indicates that the Genders have also been written differently. Among these entries we can atest that 457 are females but we'll be able to see this in a clearer way after cleaning the data.\n",
    "- When it comes to Education we can observe that Bachelor's is the most common education level.\n",
    "- The Number of Open Complains is not clear, there is no clear indication of what 1/0/00 means.\n",
    "- The Policy Type shows that the majority of the customers have a Personal Car.\n",
    "- The Vehicle Class shows that there are 6 vehicle class types but the most common vehicle is a Four-Door-Car."
   ]
  },
  {
   "cell_type": "markdown",
   "id": "4a703890-63db-4944-b7ab-95a4f8185120",
   "metadata": {},
   "source": [
    "## Challenge 2: analyzing the data"
   ]
  },
  {
   "cell_type": "markdown",
   "id": "0776a403-c56a-452f-ac33-5fd4fdb06fc7",
   "metadata": {},
   "source": [
    "### Exercise 1"
   ]
  },
  {
   "cell_type": "markdown",
   "id": "eedbc484-da4d-4f9c-9343-e1d44311a87e",
   "metadata": {},
   "source": [
    "The marketing team wants to know the top 5 less common customer locations. Create a pandas Series object that contains the customer locations and their frequencies, and then retrieve the top 5 less common locations in ascending order."
   ]
  },
  {
   "cell_type": "code",
   "execution_count": 17,
   "id": "2dca5073-4520-4f42-9390-4b92733284ed",
   "metadata": {},
   "outputs": [
    {
     "data": {
      "text/plain": [
       "0       Washington\n",
       "1          Arizona\n",
       "2           Nevada\n",
       "3       California\n",
       "4       Washington\n",
       "           ...    \n",
       "4003           NaN\n",
       "4004           NaN\n",
       "4005           NaN\n",
       "4006           NaN\n",
       "4007           NaN\n",
       "Name: ST, Length: 4008, dtype: object"
      ]
     },
     "execution_count": 17,
     "metadata": {},
     "output_type": "execute_result"
    }
   ],
   "source": [
    "customer_locations = pd.read_csv(url, usecols=[\"ST\"]).squeeze(\"columns\")\n",
    "customer_locations"
   ]
  },
  {
   "cell_type": "code",
   "execution_count": 18,
   "id": "7d1240ce",
   "metadata": {},
   "outputs": [
    {
     "data": {
      "text/plain": [
       "array(['Washington', 'Arizona', 'Nevada', 'California', 'Oregon', 'Cali',\n",
       "       'AZ', 'WA', nan], dtype=object)"
      ]
     },
     "execution_count": 18,
     "metadata": {},
     "output_type": "execute_result"
    }
   ],
   "source": [
    "customer_locations.unique()"
   ]
  },
  {
   "cell_type": "code",
   "execution_count": 19,
   "id": "949a8032",
   "metadata": {},
   "outputs": [],
   "source": [
    "customer_locations.replace({'AZ': 'Arizona', 'WA': 'Washington', 'Cali': 'California'}, inplace=True)"
   ]
  },
  {
   "cell_type": "code",
   "execution_count": 20,
   "id": "5eb300c0",
   "metadata": {},
   "outputs": [
    {
     "data": {
      "text/plain": [
       "5"
      ]
     },
     "execution_count": 20,
     "metadata": {},
     "output_type": "execute_result"
    }
   ],
   "source": [
    "customer_locations.nunique()"
   ]
  },
  {
   "cell_type": "code",
   "execution_count": 21,
   "id": "0063f383",
   "metadata": {},
   "outputs": [
    {
     "data": {
      "text/plain": [
       "ST\n",
       "Nevada         98\n",
       "Washington    111\n",
       "Arizona       211\n",
       "Oregon        320\n",
       "California    331\n",
       "Name: count, dtype: int64"
      ]
     },
     "execution_count": 21,
     "metadata": {},
     "output_type": "execute_result"
    }
   ],
   "source": [
    "customer_locations.value_counts().sort_values().head(5)"
   ]
  },
  {
   "cell_type": "markdown",
   "id": "0ce80f43-4afa-43c7-a78a-c917444da4e0",
   "metadata": {},
   "source": [
    "### Exercise 2\n",
    "\n",
    "The sales team wants to know the total number of policies sold for each type of policy. Create a pandas Series object that contains the policy types and their total number of policies sold, and then retrieve the policy type with the highest number of policies sold."
   ]
  },
  {
   "cell_type": "markdown",
   "id": "a9f13997-1555-4f98-aca6-970fda1d2c3f",
   "metadata": {},
   "source": [
    "*Hint:*\n",
    "- *Using value_counts() method simplifies this analysis.*\n",
    "- *Futhermore, there is a method that returns the index of the maximum value in a column or row.*\n"
   ]
  },
  {
   "cell_type": "code",
   "execution_count": 22,
   "id": "bcfad6c1-9af2-4b0b-9aa9-0dc5c17473c0",
   "metadata": {},
   "outputs": [
    {
     "data": {
      "text/plain": [
       "0        Personal Auto\n",
       "1        Personal Auto\n",
       "2        Personal Auto\n",
       "3       Corporate Auto\n",
       "4        Personal Auto\n",
       "             ...      \n",
       "4003               NaN\n",
       "4004               NaN\n",
       "4005               NaN\n",
       "4006               NaN\n",
       "4007               NaN\n",
       "Name: Policy Type, Length: 4008, dtype: object"
      ]
     },
     "execution_count": 22,
     "metadata": {},
     "output_type": "execute_result"
    }
   ],
   "source": [
    "policy_type = pd.read_csv(url, usecols=[\"Policy Type\"]).squeeze(\"columns\")\n",
    "policy_type"
   ]
  },
  {
   "cell_type": "code",
   "execution_count": 23,
   "id": "c3821ae9",
   "metadata": {},
   "outputs": [
    {
     "data": {
      "text/plain": [
       "Policy Type\n",
       "Personal Auto     780\n",
       "Corporate Auto    234\n",
       "Special Auto       57\n",
       "Name: count, dtype: int64"
      ]
     },
     "execution_count": 23,
     "metadata": {},
     "output_type": "execute_result"
    }
   ],
   "source": [
    "policy_type.value_counts()"
   ]
  },
  {
   "cell_type": "code",
   "execution_count": 24,
   "id": "224467ec",
   "metadata": {},
   "outputs": [
    {
     "data": {
      "text/plain": [
       "'Personal Auto'"
      ]
     },
     "execution_count": 24,
     "metadata": {},
     "output_type": "execute_result"
    }
   ],
   "source": [
    "policy_type.value_counts().idxmax()"
   ]
  },
  {
   "cell_type": "markdown",
   "id": "0b863fd3-bf91-4d5d-86eb-be29ed9f5b70",
   "metadata": {},
   "source": [
    "### Exercise 3\n",
    "\n",
    "The sales team wants to know if customers with Personal Auto have a lower income than those with Corporate Auto. How does the average income compare between the two policy types?"
   ]
  },
  {
   "cell_type": "markdown",
   "id": "b1386d75-2810-4aa1-93e0-9485aa12d552",
   "metadata": {},
   "source": [
    "- Use *loc* to create two dataframes: one containing only Personal Auto policies and one containing only Corporate Auto policies.\n",
    "- Calculate the average income for each policy.\n",
    "- Print the results."
   ]
  },
  {
   "cell_type": "code",
   "execution_count": 25,
   "id": "0c0563cf-6f8b-463d-a321-651a972f82e5",
   "metadata": {},
   "outputs": [],
   "source": [
    "personal_auto = df.loc[df['Policy Type'] == 'Personal Auto']\n",
    "corporate_auto = df.loc[df['Policy Type'] == 'Corporate Auto']"
   ]
  },
  {
   "cell_type": "code",
   "execution_count": 26,
   "id": "4fae27df",
   "metadata": {},
   "outputs": [
    {
     "name": "stdout",
     "output_type": "stream",
     "text": [
      "38180.69871794872\n",
      "41390.31196581197\n"
     ]
    }
   ],
   "source": [
    "avg_personal_auto = personal_auto['Income'].mean()\n",
    "avg_corporate_auto = corporate_auto['Income'].mean()\n",
    "\n",
    "print(avg_personal_auto)\n",
    "print(avg_corporate_auto)"
   ]
  },
  {
   "cell_type": "markdown",
   "id": "80b16c27-f4a5-4727-a229-1f88671cf4e2",
   "metadata": {},
   "source": [
    "### Bonus: Exercise 4\n"
   ]
  },
  {
   "cell_type": "markdown",
   "id": "ac584986-299b-475f-ac2e-928c16c3f512",
   "metadata": {},
   "source": [
    "Your goal is to identify customers with a high policy claim amount.\n",
    "\n",
    "Instructions:\n",
    "\n",
    "- Review again the statistics for total claim amount to gain an understanding of the data.\n",
    "- To identify potential areas for improving customer retention and profitability, we want to focus on customers with a high policy claim amount. Consider customers with a high policy claim amount to be those in the top 25% of the total claim amount. Create a pandas DataFrame object that contains information about customers with a policy claim amount greater than the 75th percentile.\n",
    "- Use DataFrame methods to calculate summary statistics about the high policy claim amount data. "
   ]
  },
  {
   "cell_type": "markdown",
   "id": "4e3af5f1-6023-4b05-9c01-d05392daa650",
   "metadata": {},
   "source": [
    "*Note: When analyzing data, we often want to focus on certain groups of values to gain insights. Percentiles are a useful tool to help us define these groups. A percentile is a measure that tells us what percentage of values in a dataset are below a certain value. For example, the 75th percentile represents the value below which 75% of the data falls. Similarly, the 25th percentile represents the value below which 25% of the data falls. When we talk about the top 25%, we are referring to the values that fall above the 75th percentile, which represent the top quarter of the data. On the other hand, when we talk about the bottom 25%, we are referring to the values that fall below the 25th percentile, which represent the bottom quarter of the data. By focusing on these groups, we can identify patterns and trends that may be useful for making decisions and taking action.*\n",
    "\n",
    "*Hint: look for a method that gives you the percentile or quantile 0.75 and 0.25 for a Pandas Series.*"
   ]
  },
  {
   "cell_type": "markdown",
   "id": "2d234634-50bd-41e0-88f7-d5ba684455d1",
   "metadata": {},
   "source": [
    "*Hint 2: check `Boolean selection according to the values of a single column` in https://towardsdatascience.com/filtering-data-frames-in-pandas-b570b1f834b9*"
   ]
  },
  {
   "cell_type": "code",
   "execution_count": 27,
   "id": "67a73137",
   "metadata": {},
   "outputs": [
    {
     "data": {
      "text/plain": [
       "count    1071.000000\n",
       "mean      404.986909\n",
       "std       293.027260\n",
       "min         0.382107\n",
       "25%       202.157702\n",
       "50%       354.729129\n",
       "75%       532.800000\n",
       "max      2893.239678\n",
       "Name: Total Claim Amount, dtype: float64"
      ]
     },
     "execution_count": 27,
     "metadata": {},
     "output_type": "execute_result"
    }
   ],
   "source": [
    "df['Total Claim Amount'].describe()"
   ]
  },
  {
   "cell_type": "code",
   "execution_count": 28,
   "id": "b731bca6-a760-4860-a27b-a33efa712ce0",
   "metadata": {},
   "outputs": [],
   "source": [
    "total_claim_75 = df['Total Claim Amount'].quantile(0.75)"
   ]
  },
  {
   "cell_type": "code",
   "execution_count": 30,
   "id": "3823b62c",
   "metadata": {},
   "outputs": [],
   "source": [
    "high_policy_claim = df[df['Total Claim Amount'] >= total_claim_75]"
   ]
  },
  {
   "cell_type": "code",
   "execution_count": 31,
   "id": "64fbb21b",
   "metadata": {},
   "outputs": [
    {
     "data": {
      "text/html": [
       "<div>\n",
       "<style scoped>\n",
       "    .dataframe tbody tr th:only-of-type {\n",
       "        vertical-align: middle;\n",
       "    }\n",
       "\n",
       "    .dataframe tbody tr th {\n",
       "        vertical-align: top;\n",
       "    }\n",
       "\n",
       "    .dataframe thead th {\n",
       "        text-align: right;\n",
       "    }\n",
       "</style>\n",
       "<table border=\"1\" class=\"dataframe\">\n",
       "  <thead>\n",
       "    <tr style=\"text-align: right;\">\n",
       "      <th></th>\n",
       "      <th>Customer Lifetime Value</th>\n",
       "      <th>Income</th>\n",
       "      <th>Monthly Premium Auto</th>\n",
       "      <th>Total Claim Amount</th>\n",
       "    </tr>\n",
       "  </thead>\n",
       "  <tbody>\n",
       "    <tr>\n",
       "      <th>count</th>\n",
       "      <td>273.000000</td>\n",
       "      <td>273.000000</td>\n",
       "      <td>273.000000</td>\n",
       "      <td>273.000000</td>\n",
       "    </tr>\n",
       "    <tr>\n",
       "      <th>mean</th>\n",
       "      <td>9183.794161</td>\n",
       "      <td>24106.545788</td>\n",
       "      <td>163.000000</td>\n",
       "      <td>774.005353</td>\n",
       "    </tr>\n",
       "    <tr>\n",
       "      <th>std</th>\n",
       "      <td>6582.581975</td>\n",
       "      <td>27542.717560</td>\n",
       "      <td>613.645376</td>\n",
       "      <td>291.304731</td>\n",
       "    </tr>\n",
       "    <tr>\n",
       "      <th>min</th>\n",
       "      <td>2287.596900</td>\n",
       "      <td>0.000000</td>\n",
       "      <td>63.000000</td>\n",
       "      <td>532.800000</td>\n",
       "    </tr>\n",
       "    <tr>\n",
       "      <th>25%</th>\n",
       "      <td>4747.734600</td>\n",
       "      <td>0.000000</td>\n",
       "      <td>99.000000</td>\n",
       "      <td>595.200000</td>\n",
       "    </tr>\n",
       "    <tr>\n",
       "      <th>50%</th>\n",
       "      <td>7859.414600</td>\n",
       "      <td>18846.000000</td>\n",
       "      <td>113.000000</td>\n",
       "      <td>673.342650</td>\n",
       "    </tr>\n",
       "    <tr>\n",
       "      <th>75%</th>\n",
       "      <td>10656.882000</td>\n",
       "      <td>44897.000000</td>\n",
       "      <td>133.000000</td>\n",
       "      <td>844.481918</td>\n",
       "    </tr>\n",
       "    <tr>\n",
       "      <th>max</th>\n",
       "      <td>40224.013600</td>\n",
       "      <td>99316.000000</td>\n",
       "      <td>10202.000000</td>\n",
       "      <td>2893.239678</td>\n",
       "    </tr>\n",
       "  </tbody>\n",
       "</table>\n",
       "</div>"
      ],
      "text/plain": [
       "       Customer Lifetime Value        Income  Monthly Premium Auto  \\\n",
       "count               273.000000    273.000000            273.000000   \n",
       "mean               9183.794161  24106.545788            163.000000   \n",
       "std                6582.581975  27542.717560            613.645376   \n",
       "min                2287.596900      0.000000             63.000000   \n",
       "25%                4747.734600      0.000000             99.000000   \n",
       "50%                7859.414600  18846.000000            113.000000   \n",
       "75%               10656.882000  44897.000000            133.000000   \n",
       "max               40224.013600  99316.000000          10202.000000   \n",
       "\n",
       "       Total Claim Amount  \n",
       "count          273.000000  \n",
       "mean           774.005353  \n",
       "std            291.304731  \n",
       "min            532.800000  \n",
       "25%            595.200000  \n",
       "50%            673.342650  \n",
       "75%            844.481918  \n",
       "max           2893.239678  "
      ]
     },
     "execution_count": 31,
     "metadata": {},
     "output_type": "execute_result"
    }
   ],
   "source": [
    "high_policy_claim.describe()"
   ]
  },
  {
   "cell_type": "code",
   "execution_count": null,
   "id": "a5573645",
   "metadata": {},
   "outputs": [],
   "source": []
  }
 ],
 "metadata": {
  "kernelspec": {
   "display_name": "Python 3",
   "language": "python",
   "name": "python3"
  },
  "language_info": {
   "codemirror_mode": {
    "name": "ipython",
    "version": 3
   },
   "file_extension": ".py",
   "mimetype": "text/x-python",
   "name": "python",
   "nbconvert_exporter": "python",
   "pygments_lexer": "ipython3",
   "version": "3.13.0"
  }
 },
 "nbformat": 4,
 "nbformat_minor": 5
}
